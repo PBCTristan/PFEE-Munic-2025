{
 "cells": [
  {
   "cell_type": "code",
   "execution_count": 38,
   "metadata": {},
   "outputs": [],
   "source": [
    "import pandas as pd\n",
    "import requests\n",
    "import json\n",
    "import time\n",
    "import urllib.request\n",
    "import os\n",
    "\n",
    "\n",
    "\n",
    "api_path = 'https://nrd.api.nhtsa.dot.gov/nhtsa/vehicle/api/v1/vehicle-database-test-results'"
   ]
  },
  {
   "cell_type": "code",
   "execution_count": 39,
   "metadata": {},
   "outputs": [],
   "source": [
    "def get_car_assessement_data(size, dateFrom, dateTo):\n",
    "  req_string = api_path + f'/by-search?count={size}&testType=NCA&excludeNhtsaVehicles=true&testDateFrom={dateFrom}&testDateTo={dateTo}'\n",
    "  get_vehicles = requests.get(req_string)\n",
    "  vehicles_json_results = json.loads(get_vehicles.text)['results']\n",
    "\n",
    "  cleaned_results = map(lambda record: (record[\"testNo\"], record[\"instrumentationInformation\"]), filter(lambda rec: rec[\"hasInstrumentationInfo\"] == True, vehicles_json_results))\n",
    "  return cleaned_results\n",
    "\n",
    "def save_car_assessement_as_json(data, filename):\n",
    "  as_list = list(data)\n",
    "  print(f'Found {len(as_list)} records matching the filters.\\nDumping in file {filename}.')\n",
    "  with open(filename, 'w') as f:\n",
    "    json.dump(as_list, f)\n",
    "\n",
    "def get_car_sensor_results(url):\n",
    "  instruments_response = requests.get(url + '?count=1000')\n",
    "  instruments_results = json.loads(instruments_response.text)['results']\n",
    "\n",
    "  in_engine_results = filter(lambda record: record['sensorType'] == \"ACCELEROMETER\", instruments_results)\n",
    "  return list(in_engine_results)\n",
    "\n",
    "def save_car_sensor_results(url, filename):\n",
    "  os.mkdir(filename)\n",
    "  with open(filename + \"/info\", 'w') as f:\n",
    "    values = get_car_sensor_results(url)\n",
    "    json.dump(values, f)\n",
    "\n",
    "def scrap_sensors_values(assess_filename, save_prefix):\n",
    "  os.mkdir(save_prefix)\n",
    "  with open(assess_filename, 'r') as f:\n",
    "    dic = json.loads(f.read())\n",
    "    for k, v in dic:\n",
    "      save_car_sensor_results(v, f'{save_prefix}/{k}')\n",
    "      time.sleep(0.5)\n",
    "  print('End')"
   ]
  },
  {
   "cell_type": "code",
   "execution_count": null,
   "metadata": {},
   "outputs": [],
   "source": [
    "# import argparse\n",
    "\n",
    "# def run(args):\n",
    "#   save_car_assessement_as_json(get_car_assessement_data(args['number'], args['date_from'], args['date_to']), args['filename'])\n",
    "#   scrap_sensors_values(args['filename'], args['save_dir'])\n",
    "\n",
    "# parser = argparse.ArgumentParser(\"crash_scrapper\")\n",
    "# parser.add_argument('filename', help='The file in which to save the data', type=str)\n",
    "# parser.add_argument('number', help='The number of records to scrap (resulting json may be smaller)', type=int)\n",
    "# parser.add_argument('save_dir', help='Directory in which to save', type=str)\n",
    "# parser.add_argument('--date_from', help='Get records from this date (format: YYYY-MM-DD)', type=str, default='2000-01-01')\n",
    "# parser.add_argument('--date_to', help='Get records to this date (format: YYYY-MM-DD)', type=str, default='2020-01-01')\n",
    "# args = vars(parser.parse_args())\n",
    "\n",
    "# run(args)"
   ]
  },
  {
   "cell_type": "code",
   "execution_count": null,
   "metadata": {},
   "outputs": [],
   "source": [
    "def run(number, date_from, date_to, filename, save_dir):\n",
    "    save_car_assessement_as_json(get_car_assessement_data(number, date_from, date_to), filename)\n",
    "    scrap_sensors_values(filename, save_dir)\n",
    "\n",
    "\n",
    "run(100, \"2000-01-01\", '2020-01-01', \"data\", \"./save\")"
   ]
  },
  {
   "cell_type": "code",
   "execution_count": 78,
   "metadata": {},
   "outputs": [],
   "source": [
    "class Crashtest():\n",
    "\n",
    "    def __init__(self, test_no, path='./save', capteurs_list=[\"B PILLAR - LEFT\",\"A PILLAR - LEFT\",\"VEHICLE CG\"]):\n",
    "        self.test_no = test_no\n",
    "        self.path = path\n",
    "        self.capteurs_list = capteurs_list\n",
    "        self.info = {k: [] for k in capteurs_list}\n",
    "\n",
    "    def get_info(self):\n",
    "        with open(f'{self.path}/{self.test_no}/info', 'r') as f:\n",
    "            list = json.loads(f.read())\n",
    "            for test in list:\n",
    "                if test[\"sensorAttachment\"] in self.capteurs_list:\n",
    "                    self.info[test[\"sensorAttachment\"]].append({\"axis\": test[\"axisDirofSensor\"][0], \"curveNo\" : test[\"curveNo\"], 'vehicleNo': test[\"vehicleNo\"]})\n",
    "\n",
    "    def get_ascii_url(self):\n",
    "        for k, v in self.info.items():\n",
    "            for dict in v:\n",
    "                response = requests.get(f'{api_path}/get-instrumentation-detail-info/{dict[\"curveNo\"]}/{self.test_no}')\n",
    "                if response.status_code == 200: \n",
    "                    result = response.json()['results'][0] \n",
    "                    dict[\"asciiFile\"] = result[\"asciiFile\"]\n",
    "                else:\n",
    "                    print(f\"Failed to get data for curveNo {dict['curveNo']} with status code {response.status_code}\")\n",
    "\n",
    "    def get_full_path(self, k, dict):\n",
    "        return f'{self.path}/{self.test_no}/{k}_ve{dict[\"vehicleNo\"]}_{dict[\"axis\"]}_{dict[\"curveNo\"]}' \n",
    "\n",
    "    def download(self):\n",
    "        for k, v in self.info.items():\n",
    "            for dict in v:\n",
    "                urllib.request.urlretrieve(dict[\"asciiFile\"], self.get_full_path(k, dict))\n",
    "                time.sleep(0.05)\n",
    "\n",
    "\n",
    "    def clean(self):\n",
    "        for k, v in self.info.items():\n",
    "            for dict in v:\n",
    "                file_path = self.get_full_path(k, dict)\n",
    "                if os.path.exists(file_path):\n",
    "                    os.remove(file_path)\n",
    "        \n",
    "\n",
    "    def load(self, prefix = lambda k : ''):\n",
    "        merged_df = None\n",
    "        for k, v in self.info.items():\n",
    "            for dict in v:\n",
    "                file_path = self.get_full_path(k, dict)\n",
    "                df = pd.read_csv(file_path, delim_whitespace=True, header=None)\n",
    "                df.columns = ['time', f'{prefix(k)}ve{dict[\"vehicleNo\"]}_{dict[\"axis\"]}_acc']\n",
    "                df[f'{prefix(k)}ve{dict[\"vehicleNo\"]}_{dict[\"axis\"]}_acc'] = df[f'{prefix(k)}ve{dict[\"vehicleNo\"]}_{dict[\"axis\"]}_acc'] * 9.81\n",
    "        \n",
    "                if merged_df is None:\n",
    "                    merged_df = df\n",
    "                else:\n",
    "                    merged_df = merged_df.merge(df, on='time', how='outer')\n",
    "        return merged_df\n",
    "\n",
    "\n",
    "# import urllib.request\n",
    "# url = 'https://address'\n",
    "# filename = 'myfile.txt'\n",
    "# urllib.request.urlretrieve(url, filename)"
   ]
  },
  {
   "cell_type": "code",
   "execution_count": 80,
   "metadata": {},
   "outputs": [
    {
     "name": "stdout",
     "output_type": "stream",
     "text": [
      "{'VEHICLE CG': [{'axis': 'X', 'curveNo': 47, 'vehicleNo': 2}, {'axis': 'Y', 'curveNo': 48, 'vehicleNo': 2}, {'axis': 'Z', 'curveNo': 49, 'vehicleNo': 2}, {'axis': 'X', 'curveNo': 50, 'vehicleNo': 1}, {'axis': 'Y', 'curveNo': 51, 'vehicleNo': 1}, {'axis': 'Z', 'curveNo': 52, 'vehicleNo': 1}]}\n",
      "{'VEHICLE CG': [{'axis': 'X', 'curveNo': 47, 'vehicleNo': 2, 'asciiFile': 'https://nrd-static.nhtsa.dot.gov/tsv/vehdb/v00000/v03200/v03249/v03249tsv.047'}, {'axis': 'Y', 'curveNo': 48, 'vehicleNo': 2, 'asciiFile': 'https://nrd-static.nhtsa.dot.gov/tsv/vehdb/v00000/v03200/v03249/v03249tsv.048'}, {'axis': 'Z', 'curveNo': 49, 'vehicleNo': 2, 'asciiFile': 'https://nrd-static.nhtsa.dot.gov/tsv/vehdb/v00000/v03200/v03249/v03249tsv.049'}, {'axis': 'X', 'curveNo': 50, 'vehicleNo': 1, 'asciiFile': 'https://nrd-static.nhtsa.dot.gov/tsv/vehdb/v00000/v03200/v03249/v03249tsv.050'}, {'axis': 'Y', 'curveNo': 51, 'vehicleNo': 1, 'asciiFile': 'https://nrd-static.nhtsa.dot.gov/tsv/vehdb/v00000/v03200/v03249/v03249tsv.051'}, {'axis': 'Z', 'curveNo': 52, 'vehicleNo': 1, 'asciiFile': 'https://nrd-static.nhtsa.dot.gov/tsv/vehdb/v00000/v03200/v03249/v03249tsv.052'}]}\n"
     ]
    }
   ],
   "source": [
    "T = Crashtest(3249, capteurs_list=[\"VEHICLE CG\"])\n",
    "T.get_info()\n",
    "print(T.info)\n",
    "T.get_ascii_url()\n",
    "print(T.info)\n",
    "T.download()"
   ]
  },
  {
   "cell_type": "code",
   "execution_count": 81,
   "metadata": {},
   "outputs": [],
   "source": [
    "df = T.load()"
   ]
  },
  {
   "cell_type": "code",
   "execution_count": 82,
   "metadata": {},
   "outputs": [
    {
     "data": {
      "text/html": [
       "<div>\n",
       "<style scoped>\n",
       "    .dataframe tbody tr th:only-of-type {\n",
       "        vertical-align: middle;\n",
       "    }\n",
       "\n",
       "    .dataframe tbody tr th {\n",
       "        vertical-align: top;\n",
       "    }\n",
       "\n",
       "    .dataframe thead th {\n",
       "        text-align: right;\n",
       "    }\n",
       "</style>\n",
       "<table border=\"1\" class=\"dataframe\">\n",
       "  <thead>\n",
       "    <tr style=\"text-align: right;\">\n",
       "      <th></th>\n",
       "      <th>time</th>\n",
       "      <th>ve2_X_acc</th>\n",
       "      <th>ve2_Y_acc</th>\n",
       "      <th>ve2_Z_acc</th>\n",
       "      <th>ve1_X_acc</th>\n",
       "      <th>ve1_Y_acc</th>\n",
       "      <th>ve1_Z_acc</th>\n",
       "    </tr>\n",
       "  </thead>\n",
       "  <tbody>\n",
       "    <tr>\n",
       "      <th>0</th>\n",
       "      <td>-0.02000</td>\n",
       "      <td>-0.444124</td>\n",
       "      <td>1.332757</td>\n",
       "      <td>-12.293598</td>\n",
       "      <td>32.007381</td>\n",
       "      <td>74.291326</td>\n",
       "      <td>-22.722805</td>\n",
       "    </tr>\n",
       "    <tr>\n",
       "      <th>1</th>\n",
       "      <td>-0.01995</td>\n",
       "      <td>0.759147</td>\n",
       "      <td>-1.216303</td>\n",
       "      <td>-10.943251</td>\n",
       "      <td>-11.744826</td>\n",
       "      <td>66.136764</td>\n",
       "      <td>-19.755869</td>\n",
       "    </tr>\n",
       "    <tr>\n",
       "      <th>2</th>\n",
       "      <td>-0.01990</td>\n",
       "      <td>1.059961</td>\n",
       "      <td>-6.314432</td>\n",
       "      <td>-3.141525</td>\n",
       "      <td>-27.317613</td>\n",
       "      <td>37.293794</td>\n",
       "      <td>-16.492082</td>\n",
       "    </tr>\n",
       "    <tr>\n",
       "      <th>3</th>\n",
       "      <td>-0.01985</td>\n",
       "      <td>1.661598</td>\n",
       "      <td>-9.013438</td>\n",
       "      <td>5.110294</td>\n",
       "      <td>-3.587595</td>\n",
       "      <td>12.226105</td>\n",
       "      <td>-6.701044</td>\n",
       "    </tr>\n",
       "    <tr>\n",
       "      <th>4</th>\n",
       "      <td>-0.01980</td>\n",
       "      <td>2.413643</td>\n",
       "      <td>-5.564703</td>\n",
       "      <td>5.110294</td>\n",
       "      <td>16.879478</td>\n",
       "      <td>9.658946</td>\n",
       "      <td>7.985585</td>\n",
       "    </tr>\n",
       "    <tr>\n",
       "      <th>...</th>\n",
       "      <td>...</td>\n",
       "      <td>...</td>\n",
       "      <td>...</td>\n",
       "      <td>...</td>\n",
       "      <td>...</td>\n",
       "      <td>...</td>\n",
       "      <td>...</td>\n",
       "    </tr>\n",
       "    <tr>\n",
       "      <th>4395</th>\n",
       "      <td>0.19975</td>\n",
       "      <td>1.661598</td>\n",
       "      <td>-21.908673</td>\n",
       "      <td>143.590932</td>\n",
       "      <td>-8.926845</td>\n",
       "      <td>-22.355224</td>\n",
       "      <td>23.858999</td>\n",
       "    </tr>\n",
       "    <tr>\n",
       "      <th>4396</th>\n",
       "      <td>0.19980</td>\n",
       "      <td>3.917731</td>\n",
       "      <td>-26.706940</td>\n",
       "      <td>143.440839</td>\n",
       "      <td>-4.329163</td>\n",
       "      <td>-10.274405</td>\n",
       "      <td>26.232627</td>\n",
       "    </tr>\n",
       "    <tr>\n",
       "      <th>4397</th>\n",
       "      <td>0.19985</td>\n",
       "      <td>3.616918</td>\n",
       "      <td>-27.906507</td>\n",
       "      <td>143.590932</td>\n",
       "      <td>2.344904</td>\n",
       "      <td>14.491234</td>\n",
       "      <td>17.034967</td>\n",
       "    </tr>\n",
       "    <tr>\n",
       "      <th>4398</th>\n",
       "      <td>0.19990</td>\n",
       "      <td>0.759147</td>\n",
       "      <td>-24.907590</td>\n",
       "      <td>143.290746</td>\n",
       "      <td>7.832461</td>\n",
       "      <td>29.441282</td>\n",
       "      <td>5.463640</td>\n",
       "    </tr>\n",
       "    <tr>\n",
       "      <th>4399</th>\n",
       "      <td>0.19995</td>\n",
       "      <td>-4.505164</td>\n",
       "      <td>-19.959426</td>\n",
       "      <td>143.290746</td>\n",
       "      <td>12.875134</td>\n",
       "      <td>21.135743</td>\n",
       "      <td>0.864797</td>\n",
       "    </tr>\n",
       "  </tbody>\n",
       "</table>\n",
       "<p>4400 rows × 7 columns</p>\n",
       "</div>"
      ],
      "text/plain": [
       "         time  ve2_X_acc  ve2_Y_acc   ve2_Z_acc  ve1_X_acc  ve1_Y_acc  \\\n",
       "0    -0.02000  -0.444124   1.332757  -12.293598  32.007381  74.291326   \n",
       "1    -0.01995   0.759147  -1.216303  -10.943251 -11.744826  66.136764   \n",
       "2    -0.01990   1.059961  -6.314432   -3.141525 -27.317613  37.293794   \n",
       "3    -0.01985   1.661598  -9.013438    5.110294  -3.587595  12.226105   \n",
       "4    -0.01980   2.413643  -5.564703    5.110294  16.879478   9.658946   \n",
       "...       ...        ...        ...         ...        ...        ...   \n",
       "4395  0.19975   1.661598 -21.908673  143.590932  -8.926845 -22.355224   \n",
       "4396  0.19980   3.917731 -26.706940  143.440839  -4.329163 -10.274405   \n",
       "4397  0.19985   3.616918 -27.906507  143.590932   2.344904  14.491234   \n",
       "4398  0.19990   0.759147 -24.907590  143.290746   7.832461  29.441282   \n",
       "4399  0.19995  -4.505164 -19.959426  143.290746  12.875134  21.135743   \n",
       "\n",
       "      ve1_Z_acc  \n",
       "0    -22.722805  \n",
       "1    -19.755869  \n",
       "2    -16.492082  \n",
       "3     -6.701044  \n",
       "4      7.985585  \n",
       "...         ...  \n",
       "4395  23.858999  \n",
       "4396  26.232627  \n",
       "4397  17.034967  \n",
       "4398   5.463640  \n",
       "4399   0.864797  \n",
       "\n",
       "[4400 rows x 7 columns]"
      ]
     },
     "execution_count": 82,
     "metadata": {},
     "output_type": "execute_result"
    }
   ],
   "source": [
    "df"
   ]
  },
  {
   "cell_type": "code",
   "execution_count": 79,
   "metadata": {},
   "outputs": [],
   "source": [
    "T.clean()"
   ]
  },
  {
   "cell_type": "code",
   "execution_count": 84,
   "metadata": {},
   "outputs": [
    {
     "data": {
      "text/plain": [
       "[<matplotlib.lines.Line2D at 0x1f699c7a490>]"
      ]
     },
     "execution_count": 84,
     "metadata": {},
     "output_type": "execute_result"
    },
    {
     "data": {
      "image/png": "[encoded data removed]",
      "text/plain": [
       "<Figure size 640x480 with 1 Axes>"
      ]
     },
     "metadata": {},
     "output_type": "display_data"
    }
   ],
   "source": [
    "import matplotlib.pyplot as plt\n",
    "\n",
    "plt.plot(df[\"time\"],df[\"ve2_X_acc\"])"
   ]
  },
  {
   "cell_type": "code",
   "execution_count": 86,
   "metadata": {},
   "outputs": [
    {
     "name": "stderr",
     "output_type": "stream",
     "text": [
      "C:\\Users\\joris\\AppData\\Local\\Temp\\ipykernel_15136\\988952108.py:8: SettingWithCopyWarning: \n",
      "A value is trying to be set on a copy of a slice from a DataFrame\n",
      "\n",
      "See the caveats in the documentation: https://pandas.pydata.org/pandas-docs/stable/user_guide/indexing.html#returning-a-view-versus-a-copy\n",
      "  df[speed_col].iloc[j] = df[speed_col].iloc[j-1] + 0.5 * (df[acc_col].iloc[j] + df[acc_col].iloc[j-1]) * dt\n"
     ]
    }
   ],
   "source": [
    "acc_col = f've2_X_acc'\n",
    "speed_col = f'speed'\n",
    "\n",
    "df[speed_col] = 0\n",
    "    \n",
    "for j in range(1, len(df)):\n",
    "    dt = df['time'].iloc[j] - df['time'].iloc[j-1]\n",
    "    df[speed_col].iloc[j] = df[speed_col].iloc[j-1] + 0.5 * (df[acc_col].iloc[j] + df[acc_col].iloc[j-1]) * dt\n"
   ]
  },
  {
   "cell_type": "code",
   "execution_count": 87,
   "metadata": {},
   "outputs": [
    {
     "data": {
      "text/plain": [
       "[<matplotlib.lines.Line2D at 0x1f699e2f390>]"
      ]
     },
     "execution_count": 87,
     "metadata": {},
     "output_type": "execute_result"
    },
    {
     "data": {
      "image/png": "[encoded data removed]",
      "text/plain": [
       "<Figure size 640x480 with 1 Axes>"
      ]
     },
     "metadata": {},
     "output_type": "display_data"
    }
   ],
   "source": [
    "plt.plot(df[\"time\"],df[\"speed\"])"
   ]
  },
  {
   "cell_type": "code",
   "execution_count": 88,
   "metadata": {},
   "outputs": [
    {
     "name": "stderr",
     "output_type": "stream",
     "text": [
      "C:\\Users\\joris\\AppData\\Local\\Temp\\ipykernel_15136\\1105204907.py:8: SettingWithCopyWarning: \n",
      "A value is trying to be set on a copy of a slice from a DataFrame\n",
      "\n",
      "See the caveats in the documentation: https://pandas.pydata.org/pandas-docs/stable/user_guide/indexing.html#returning-a-view-versus-a-copy\n",
      "  df[pos_col].iloc[j] = df[pos_col].iloc[j-1] + 0.5 * (df[speed_col].iloc[j] + df[speed_col].iloc[j-1]) * dt\n"
     ]
    }
   ],
   "source": [
    "speed_col = f'speed'\n",
    "pos_col = f'pos'\n",
    "\n",
    "df[pos_col] = 0\n",
    "    \n",
    "for j in range(1, len(df)):\n",
    "    dt = df['time'].iloc[j] - df['time'].iloc[j-1]\n",
    "    df[pos_col].iloc[j] = df[pos_col].iloc[j-1] + 0.5 * (df[speed_col].iloc[j] + df[speed_col].iloc[j-1]) * dt"
   ]
  },
  {
   "cell_type": "code",
   "execution_count": 89,
   "metadata": {},
   "outputs": [
    {
     "data": {
      "text/plain": [
       "[<matplotlib.lines.Line2D at 0x1f699cf3ad0>]"
      ]
     },
     "execution_count": 89,
     "metadata": {},
     "output_type": "execute_result"
    },
    {
     "data": {
      "image/png": "[encoded data removed]",
      "text/plain": [
       "<Figure size 640x480 with 1 Axes>"
      ]
     },
     "metadata": {},
     "output_type": "display_data"
    }
   ],
   "source": [
    "plt.plot(df[\"time\"],df[\"pos\"])"
   ]
  }
 ],
 "metadata": {
  "kernelspec": {
   "display_name": "base",
   "language": "python",
   "name": "python3"
  },
  "language_info": {
   "codemirror_mode": {
    "name": "ipython",
    "version": 3
   },
   "file_extension": ".py",
   "mimetype": "text/x-python",
   "name": "python",
   "nbconvert_exporter": "python",
   "pygments_lexer": "ipython3",
   "version": "3.11.5"
  }
 },
 "nbformat": 4,
 "nbformat_minor": 2
}
