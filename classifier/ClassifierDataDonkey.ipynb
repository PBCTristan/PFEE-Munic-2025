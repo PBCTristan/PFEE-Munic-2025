{
 "cells": [
  {
   "cell_type": "code",
   "execution_count": 1,
   "metadata": {},
   "outputs": [],
   "source": [
    "import os\n",
    "import json\n",
    "import numpy as np\n",
    "from sklearn.model_selection import train_test_split\n",
    "from sklearn.ensemble import RandomForestClassifier\n",
    "from sklearn.preprocessing import StandardScaler\n",
    "from sklearn.metrics import classification_report"
   ]
  },
  {
   "cell_type": "markdown",
   "metadata": {},
   "source": [
    "# 1er entrainement, nos données, avec gyro"
   ]
  },
  {
   "cell_type": "code",
   "execution_count": 2,
   "metadata": {},
   "outputs": [],
   "source": [
    "# Function to extract features from JSON data\n",
    "def extract_features(data):\n",
    "    gyro = np.array([entry['gyro'] for entry in data])\n",
    "    accel = np.array([entry['accel'] for entry in data])\n",
    "    \n",
    "    # Simple feature extraction (mean, std, min, max for gyro and accel)\n",
    "    features = []\n",
    "    for sensor_data in [gyro, accel]:\n",
    "        features.append(np.mean(sensor_data, axis=0))\n",
    "        features.append(np.std(sensor_data, axis=0))\n",
    "        features.append(np.min(sensor_data, axis=0))\n",
    "        features.append(np.max(sensor_data, axis=0))\n",
    "    \n",
    "    return np.concatenate(features)\n",
    "\n",
    "# Load and process the dataset\n",
    "def load_data(folder):\n",
    "    X = []\n",
    "    y = []\n",
    "    \n",
    "    for filename in os.listdir(folder):\n",
    "        if filename.endswith('.json'):\n",
    "            filepath = os.path.join(folder, filename)\n",
    "            with open(filepath, 'r') as f:\n",
    "                json_data = json.load(f)\n",
    "                features = extract_features(json_data['data'])\n",
    "                X.append(features)\n",
    "                y.append(1 if json_data['iscrash'] else 0)\n",
    "    \n",
    "    return np.array(X), np.array(y)\n",
    "\n",
    "# Path to the folder containing the JSON files\n",
    "folder_path = './dataNous'\n",
    "\n",
    "# Load data\n",
    "X, y = load_data(folder_path)\n",
    "\n",
    "# Split data into training and testing sets\n",
    "X_train, X_test, y_train, y_test = train_test_split(X, y, test_size=0.3, random_state=42)\n",
    "\n",
    "# Normalize/scale features\n",
    "scaler = StandardScaler()\n",
    "X_train = scaler.fit_transform(X_train)\n",
    "X_test = scaler.transform(X_test)\n"
   ]
  },
  {
   "cell_type": "code",
   "execution_count": 3,
   "metadata": {},
   "outputs": [
    {
     "data": {
      "text/plain": [
       "array([-1.44794750e-03,  8.17971408e-03,  6.74289286e-03,  2.71405124e-01,\n",
       "        1.25910566e+00,  1.35027939e-01, -1.06636488e+00, -2.69467354e+00,\n",
       "       -8.80851686e-01,  1.53725088e+00,  2.96209955e+00,  7.38717020e-01,\n",
       "       -1.60081761e-03,  6.10768622e-02,  3.84228883e-01,  1.40835161e+00,\n",
       "        6.31657733e-01,  8.47584917e-01, -4.55428076e+00, -2.62305665e+00,\n",
       "       -1.19149685e+00,  3.99840474e+00,  3.82308364e+00,  3.07907462e+00])"
      ]
     },
     "execution_count": 3,
     "metadata": {},
     "output_type": "execute_result"
    }
   ],
   "source": [
    "X[0]\n",
    "# forme [moyenne de l'acc en x, moyenne de l'acc en y, moyenne de l'acc en z, std de l'acc en x, std de l'acc en y, std de l'acc en z, min de l'acc en x, min de l'acc en y, min de l'acc en z, max de l'acc en x, max de l'acc en y, max de l'acc en z, moyenne du gyro en x, moyenne du gyro en y, moyenne du gyro en z, std du gyro en x, std du gyro en y, std du gyro en z, min du gyro en x, min du gyro en y, min du gyro en z, max du gyro en x, max du gyro en y, max du gyro en z]"
   ]
  },
  {
   "cell_type": "code",
   "execution_count": 4,
   "metadata": {},
   "outputs": [
    {
     "name": "stdout",
     "output_type": "stream",
     "text": [
      "RandomForestClassifier\n",
      "              precision    recall  f1-score   support\n",
      "\n",
      "           0       0.94      0.85      0.89        20\n",
      "           1       0.92      0.97      0.94        34\n",
      "\n",
      "    accuracy                           0.93        54\n",
      "   macro avg       0.93      0.91      0.92        54\n",
      "weighted avg       0.93      0.93      0.93        54\n",
      "\n"
     ]
    }
   ],
   "source": [
    "# Train a classifier (Random Forest in this case)\n",
    "clf = RandomForestClassifier(n_estimators=100, random_state=42)\n",
    "clf.fit(X_train, y_train)\n",
    "\n",
    "# Make predictions\n",
    "y_pred = clf.predict(X_test)\n",
    "\n",
    "print(\"RandomForestClassifier\")\n",
    "# Evaluate the model\n",
    "print(classification_report(y_test, y_pred))"
   ]
  },
  {
   "cell_type": "code",
   "execution_count": 5,
   "metadata": {},
   "outputs": [
    {
     "name": "stdout",
     "output_type": "stream",
     "text": [
      "SVM Classification\n",
      "              precision    recall  f1-score   support\n",
      "\n",
      "           0       1.00      0.70      0.82        20\n",
      "           1       0.85      1.00      0.92        34\n",
      "\n",
      "    accuracy                           0.89        54\n",
      "   macro avg       0.93      0.85      0.87        54\n",
      "weighted avg       0.91      0.89      0.88        54\n",
      "\n"
     ]
    }
   ],
   "source": [
    "from sklearn.svm import SVC\n",
    "\n",
    "svm_model = SVC()\n",
    "svm_model.fit(X_train, y_train)\n",
    "y_pred_svm = svm_model.predict(X_test)\n",
    "\n",
    "print(\"SVM Classification\")\n",
    "print(classification_report(y_test, y_pred_svm))\n"
   ]
  },
  {
   "cell_type": "code",
   "execution_count": 6,
   "metadata": {},
   "outputs": [
    {
     "name": "stdout",
     "output_type": "stream",
     "text": [
      "Best parameters found by GridSearch:\n",
      "{'max_depth': 10, 'min_samples_split': 2, 'n_estimators': 50}\n",
      "Best Model Classification Report\n",
      "              precision    recall  f1-score   support\n",
      "\n",
      "           0       0.94      0.80      0.86        20\n",
      "           1       0.89      0.97      0.93        34\n",
      "\n",
      "    accuracy                           0.91        54\n",
      "   macro avg       0.92      0.89      0.90        54\n",
      "weighted avg       0.91      0.91      0.91        54\n",
      "\n"
     ]
    }
   ],
   "source": [
    "from sklearn.model_selection import GridSearchCV\n",
    "\n",
    "param_grid = {\n",
    "    'n_estimators': [50, 100, 200],\n",
    "    'max_depth': [10, 20, 30],\n",
    "    'min_samples_split': [2, 5, 10]\n",
    "}\n",
    "\n",
    "grid_search = GridSearchCV(RandomForestClassifier(random_state=42), param_grid, cv=5)\n",
    "grid_search.fit(X_train, y_train)\n",
    "\n",
    "print(\"Best parameters found by GridSearch:\")\n",
    "print(grid_search.best_params_)\n",
    "\n",
    "best_model = grid_search.best_estimator_\n",
    "y_pred_best = best_model.predict(X_test)\n",
    "\n",
    "print(\"Best Model Classification Report\")\n",
    "print(classification_report(y_test, y_pred_best))\n"
   ]
  },
  {
   "cell_type": "code",
   "execution_count": 7,
   "metadata": {},
   "outputs": [
    {
     "data": {
      "image/png": "[encoded data removed]",
      "text/plain": [
       "<Figure size 640x480 with 2 Axes>"
      ]
     },
     "metadata": {},
     "output_type": "display_data"
    }
   ],
   "source": [
    "from sklearn.metrics import confusion_matrix\n",
    "import seaborn as sns\n",
    "import matplotlib.pyplot as plt\n",
    "\n",
    "cm = confusion_matrix(y_test, y_pred)\n",
    "sns.heatmap(cm, annot=True, fmt='d')\n",
    "plt.xlabel('Predicted')\n",
    "plt.ylabel('Actual')\n",
    "plt.show()\n"
   ]
  },
  {
   "cell_type": "markdown",
   "metadata": {},
   "source": [
    "# 2eme, entrainement sans gyro, nos données, sans seuil"
   ]
  },
  {
   "cell_type": "code",
   "execution_count": 8,
   "metadata": {},
   "outputs": [
    {
     "name": "stdout",
     "output_type": "stream",
     "text": [
      "RandomForestClassifier\n",
      "              precision    recall  f1-score   support\n",
      "\n",
      "           0       0.89      0.85      0.87        20\n",
      "           1       0.91      0.94      0.93        34\n",
      "\n",
      "    accuracy                           0.91        54\n",
      "   macro avg       0.90      0.90      0.90        54\n",
      "weighted avg       0.91      0.91      0.91        54\n",
      "\n"
     ]
    }
   ],
   "source": [
    "import os\n",
    "import json\n",
    "import numpy as np\n",
    "from sklearn.model_selection import train_test_split\n",
    "from sklearn.ensemble import RandomForestClassifier\n",
    "from sklearn.preprocessing import StandardScaler\n",
    "from sklearn.metrics import classification_report\n",
    "\n",
    "# Function to extract features from accelerometer data only\n",
    "def extract_features(data):\n",
    "    accel = np.array([entry['accel'] for entry in data])\n",
    "    \n",
    "    # Simple feature extraction (mean, std, min, max for accel)\n",
    "    features = []\n",
    "    features.append(np.mean(accel, axis=0))\n",
    "    features.append(np.std(accel, axis=0))\n",
    "    features.append(np.min(accel, axis=0))\n",
    "    features.append(np.max(accel, axis=0))\n",
    "    \n",
    "    return np.concatenate(features)\n",
    "\n",
    "# Load and process the dataset\n",
    "def load_data(folder):\n",
    "    X = []\n",
    "    y = []\n",
    "    \n",
    "    for filename in os.listdir(folder):\n",
    "        if filename.endswith('.json'):\n",
    "            filepath = os.path.join(folder, filename)\n",
    "            with open(filepath, 'r') as f:\n",
    "                json_data = json.load(f)\n",
    "                features = extract_features(json_data['data'])  # Only use accel data\n",
    "                X.append(features)\n",
    "                y.append(1 if json_data['iscrash'] else 0)\n",
    "    \n",
    "    return np.array(X), np.array(y)\n",
    "\n",
    "# Path to the folder containing the JSON files\n",
    "folder_path = './dataNous'\n",
    "\n",
    "# Load data\n",
    "X, y = load_data(folder_path)\n",
    "\n",
    "# Split data into training and testing sets\n",
    "X_train, X_test, y_train, y_test = train_test_split(X, y, test_size=0.3, random_state=42)\n",
    "\n",
    "# Normalize/scale features\n",
    "scaler = StandardScaler()\n",
    "X_train = scaler.fit_transform(X_train)\n",
    "X_test = scaler.transform(X_test)\n",
    "\n",
    "# Train a classifier (Random Forest in this case)\n",
    "clf = RandomForestClassifier(n_estimators=100, random_state=42)\n",
    "clf.fit(X_train, y_train)\n",
    "\n",
    "# Make predictions\n",
    "y_pred = clf.predict(X_test)\n",
    "\n",
    "# Evaluate the model\n",
    "print(\"RandomForestClassifier\")\n",
    "print(classification_report(y_test, y_pred))\n"
   ]
  },
  {
   "cell_type": "markdown",
   "metadata": {},
   "source": [
    "# 3eme, nos données, avec seuil, sans gyro"
   ]
  },
  {
   "cell_type": "code",
   "execution_count": 24,
   "metadata": {},
   "outputs": [
    {
     "name": "stdout",
     "output_type": "stream",
     "text": [
      "Threshold: 0.5\n",
      "              precision    recall  f1-score   support\n",
      "\n",
      "           0       0.89      0.85      0.87        20\n",
      "           1       0.91      0.94      0.93        34\n",
      "\n",
      "    accuracy                           0.91        54\n",
      "   macro avg       0.90      0.90      0.90        54\n",
      "weighted avg       0.91      0.91      0.91        54\n",
      "\n",
      "\n",
      "\n",
      "Threshold: 0.6\n",
      "              precision    recall  f1-score   support\n",
      "\n",
      "           0       0.90      0.90      0.90        20\n",
      "           1       0.94      0.94      0.94        34\n",
      "\n",
      "    accuracy                           0.93        54\n",
      "   macro avg       0.92      0.92      0.92        54\n",
      "weighted avg       0.93      0.93      0.93        54\n",
      "\n",
      "\n",
      "\n",
      "Threshold: 0.7\n",
      "              precision    recall  f1-score   support\n",
      "\n",
      "           0       0.90      0.95      0.93        20\n",
      "           1       0.97      0.94      0.96        34\n",
      "\n",
      "    accuracy                           0.94        54\n",
      "   macro avg       0.94      0.95      0.94        54\n",
      "weighted avg       0.95      0.94      0.94        54\n",
      "\n",
      "\n",
      "\n",
      "Threshold: 0.8\n",
      "              precision    recall  f1-score   support\n",
      "\n",
      "           0       0.71      1.00      0.83        20\n",
      "           1       1.00      0.76      0.87        34\n",
      "\n",
      "    accuracy                           0.85        54\n",
      "   macro avg       0.86      0.88      0.85        54\n",
      "weighted avg       0.89      0.85      0.85        54\n",
      "\n",
      "\n",
      "\n",
      "Threshold: 0.9\n",
      "              precision    recall  f1-score   support\n",
      "\n",
      "           0       0.67      1.00      0.80        20\n",
      "           1       1.00      0.71      0.83        34\n",
      "\n",
      "    accuracy                           0.81        54\n",
      "   macro avg       0.83      0.85      0.81        54\n",
      "weighted avg       0.88      0.81      0.82        54\n",
      "\n",
      "\n",
      "\n",
      "RandomForestClassifier (Default Threshold)\n",
      "              precision    recall  f1-score   support\n",
      "\n",
      "           0       0.89      0.85      0.87        20\n",
      "           1       0.91      0.94      0.93        34\n",
      "\n",
      "    accuracy                           0.91        54\n",
      "   macro avg       0.90      0.90      0.90        54\n",
      "weighted avg       0.91      0.91      0.91        54\n",
      "\n"
     ]
    }
   ],
   "source": [
    "import os\n",
    "import json\n",
    "import numpy as np\n",
    "from sklearn.model_selection import train_test_split\n",
    "from sklearn.ensemble import RandomForestClassifier\n",
    "from sklearn.preprocessing import StandardScaler\n",
    "from sklearn.metrics import classification_report\n",
    "\n",
    "# Function to extract features from accelerometer data only\n",
    "def extract_features(data):\n",
    "    # Only use the 'accel' data (exclude 'gyro')\n",
    "    accel = np.array([entry['accel'] for entry in data])\n",
    "    \n",
    "    # Simple feature extraction (mean, std, min, max for accel)\n",
    "    features = []\n",
    "    features.append(np.mean(accel, axis=0))\n",
    "    features.append(np.std(accel, axis=0))\n",
    "    features.append(np.min(accel, axis=0))\n",
    "    features.append(np.max(accel, axis=0))\n",
    "    \n",
    "    return np.concatenate(features)\n",
    "\n",
    "# Load and process the dataset\n",
    "def load_data(folder):\n",
    "    X = []\n",
    "    y = []\n",
    "    \n",
    "    for filename in os.listdir(folder):\n",
    "        if filename.endswith('.json'):\n",
    "            filepath = os.path.join(folder, filename)\n",
    "            with open(filepath, 'r') as f:\n",
    "                json_data = json.load(f)\n",
    "                features = extract_features(json_data['data'])  # Only use accel data\n",
    "                X.append(features)\n",
    "                y.append(1 if json_data['iscrash'] else 0)\n",
    "    \n",
    "    return np.array(X), np.array(y)\n",
    "\n",
    "# Path to the folder containing the JSON files\n",
    "folder_path = './dataNous'\n",
    "\n",
    "# Load data\n",
    "X, y = load_data(folder_path)\n",
    "\n",
    "# Split data into training and testing sets\n",
    "X_train, X_test, y_train, y_test = train_test_split(X, y, test_size=0.3, random_state=42)\n",
    "\n",
    "# Normalize/scale features\n",
    "scaler = StandardScaler()\n",
    "X_train = scaler.fit_transform(X_train)\n",
    "X_test = scaler.transform(X_test)\n",
    "\n",
    "# Train a classifier (Random Forest in this case)\n",
    "clf = RandomForestClassifier(n_estimators=100, random_state=42)\n",
    "clf.fit(X_train, y_train)\n",
    "\n",
    "# Get prediction probabilities (since we need scores to apply thresholds)\n",
    "y_prob = clf.predict_proba(X_test)[:, 1]  # Probabilities for the positive class (iscrash = 1)\n",
    "\n",
    "# Function to predict with a threshold\n",
    "def predic_with_threshold(probs, threshold):\n",
    "    return np.array(probs > threshold, dtype=int)\n",
    "\n",
    "# List of thresholds to test\n",
    "thresholds = [0.5, 0.6, 0.7, 0.8, 0.9]  # Thresholds between 0 and 1 since we're dealing with probabilities\n",
    "\n",
    "# Loop through each threshold and print the classification report\n",
    "for threshold in thresholds:\n",
    "    y_pred_threshold = predic_with_threshold(y_prob, threshold)\n",
    "    print(f\"Threshold: {threshold}\")\n",
    "    print(classification_report(y_test, y_pred_threshold))\n",
    "    print(\"\\n\")\n",
    "\n",
    "# Evaluate the default RandomForestClassifier (using the default threshold of 0.5)\n",
    "y_pred_default = clf.predict(X_test)\n",
    "\n",
    "print(\"RandomForestClassifier (Default Threshold)\")\n",
    "print(classification_report(y_test, y_pred_default))\n"
   ]
  },
  {
   "cell_type": "markdown",
   "metadata": {},
   "source": [
    "# 4eme isolation forest "
   ]
  },
  {
   "cell_type": "code",
   "execution_count": 10,
   "metadata": {},
   "outputs": [
    {
     "name": "stdout",
     "output_type": "stream",
     "text": [
      "Isolation Forest Outlier Detection - Performance:\n",
      "              precision    recall  f1-score   support\n",
      "\n",
      "           0       0.43      1.00      0.60        69\n",
      "           1       1.00      0.16      0.28       111\n",
      "\n",
      "    accuracy                           0.48       180\n",
      "   macro avg       0.71      0.58      0.44       180\n",
      "weighted avg       0.78      0.48      0.40       180\n",
      "\n",
      "Number of true outliers (crashes) in the dataset: 111\n",
      "Number of predicted outliers by the model: 18\n"
     ]
    },
    {
     "data": {
      "image/png": "[encoded data removed]",
      "text/plain": [
       "<Figure size 640x480 with 1 Axes>"
      ]
     },
     "metadata": {},
     "output_type": "display_data"
    }
   ],
   "source": [
    "import os\n",
    "import json\n",
    "import numpy as np\n",
    "from sklearn.ensemble import IsolationForest\n",
    "from sklearn.preprocessing import StandardScaler\n",
    "from sklearn.metrics import classification_report\n",
    "import matplotlib.pyplot as plt\n",
    "\n",
    "# Function to extract features from accelerometer data only\n",
    "def extract_features(data):\n",
    "    accel = np.array([entry['accel'] for entry in data])\n",
    "    \n",
    "    # Simple feature extraction (mean, std, min, max for accel)\n",
    "    features = []\n",
    "    features.append(np.mean(accel, axis=0))\n",
    "    features.append(np.std(accel, axis=0))\n",
    "    features.append(np.min(accel, axis=0))\n",
    "    features.append(np.max(accel, axis=0))\n",
    "    \n",
    "    return np.concatenate(features)\n",
    "\n",
    "# Load and process the dataset\n",
    "def load_data(folder):\n",
    "    X = []\n",
    "    y = []  # Ground truth (iscrash values)\n",
    "    \n",
    "    for filename in os.listdir(folder):\n",
    "        if filename.endswith('.json'):\n",
    "            filepath = os.path.join(folder, filename)\n",
    "            with open(filepath, 'r') as f:\n",
    "                json_data = json.load(f)\n",
    "                features = extract_features(json_data['data'])  # Only use accel data\n",
    "                X.append(features)\n",
    "                y.append(1 if json_data['iscrash'] else 0)  # iscrash: 1 if crash, else 0\n",
    "    \n",
    "    return np.array(X), np.array(y)\n",
    "\n",
    "# Path to the folder containing the JSON files\n",
    "folder_path = './dataNous'\n",
    "\n",
    "# Load data\n",
    "X, y_true = load_data(folder_path)  # y_true is the ground truth for iscrash\n",
    "\n",
    "# Normalize/scale features\n",
    "scaler = StandardScaler()\n",
    "X_scaled = scaler.fit_transform(X)\n",
    "\n",
    "# Initialize the Isolation Forest model\n",
    "iso_forest = IsolationForest(contamination=0.1, random_state=42)\n",
    "\n",
    "# Train the model to detect outliers\n",
    "y_pred_outliers = iso_forest.fit_predict(X_scaled)\n",
    "\n",
    "# Convert the model's output (-1 for outliers, 1 for inliers) to match the binary ground truth format\n",
    "y_pred = np.where(y_pred_outliers == -1, 1, 0)  # 1 for outliers (crashes), 0 for inliers\n",
    "\n",
    "# Display classification report comparing model predictions with true iscrash values\n",
    "print(\"Isolation Forest Outlier Detection - Performance:\")\n",
    "print(classification_report(y_true, y_pred))\n",
    "\n",
    "# Count the number of true outliers (crashes) in the dataset\n",
    "num_true_outliers = np.sum(y_true)\n",
    "num_predicted_outliers = np.sum(y_pred)\n",
    "\n",
    "print(f\"Number of true outliers (crashes) in the dataset: {num_true_outliers}\")\n",
    "print(f\"Number of predicted outliers by the model: {num_predicted_outliers}\")\n",
    "\n",
    "# Plotting the results to visualize outliers\n",
    "outliers = np.where(y_pred == 1)\n",
    "inliers = np.where(y_pred == 0)\n",
    "\n",
    "plt.scatter(X_scaled[inliers, 0], X_scaled[inliers, 1], label='Inliers (Normal)', c='blue', s=20)\n",
    "plt.scatter(X_scaled[outliers, 0], X_scaled[outliers, 1], label='Outliers (Predicted Crashes)', c='red', s=20)\n",
    "plt.title(\"Outlier Detection with Isolation Forest\")\n",
    "plt.legend()\n",
    "plt.show()\n"
   ]
  },
  {
   "cell_type": "markdown",
   "metadata": {},
   "source": [
    "# 5eme Local Outlier Factor (LOF)"
   ]
  },
  {
   "cell_type": "code",
   "execution_count": 11,
   "metadata": {},
   "outputs": [
    {
     "name": "stdout",
     "output_type": "stream",
     "text": [
      "Local Outlier Factor Outlier Detection - Performance:\n",
      "              precision    recall  f1-score   support\n",
      "\n",
      "           0       0.43      1.00      0.60        69\n",
      "           1       1.00      0.16      0.28       111\n",
      "\n",
      "    accuracy                           0.48       180\n",
      "   macro avg       0.71      0.58      0.44       180\n",
      "weighted avg       0.78      0.48      0.40       180\n",
      "\n",
      "Number of true outliers (crashes) in the dataset: 111\n",
      "Number of predicted outliers by the model: 18\n"
     ]
    },
    {
     "data": {
      "image/png": "[encoded data removed]",
      "text/plain": [
       "<Figure size 640x480 with 1 Axes>"
      ]
     },
     "metadata": {},
     "output_type": "display_data"
    }
   ],
   "source": [
    "import os\n",
    "import json\n",
    "import numpy as np\n",
    "from sklearn.neighbors import LocalOutlierFactor\n",
    "from sklearn.preprocessing import StandardScaler\n",
    "from sklearn.metrics import classification_report\n",
    "import matplotlib.pyplot as plt\n",
    "\n",
    "# Function to extract features from accelerometer data only\n",
    "def extract_features(data):\n",
    "    accel = np.array([entry['accel'] for entry in data])\n",
    "    \n",
    "    # Simple feature extraction (mean, std, min, max for accel)\n",
    "    features = []\n",
    "    features.append(np.mean(accel, axis=0))\n",
    "    features.append(np.std(accel, axis=0))\n",
    "    features.append(np.min(accel, axis=0))\n",
    "    features.append(np.max(accel, axis=0))\n",
    "    \n",
    "    return np.concatenate(features)\n",
    "\n",
    "# Load and process the dataset\n",
    "def load_data(folder):\n",
    "    X = []\n",
    "    y = []  # Ground truth (iscrash values)\n",
    "    \n",
    "    for filename in os.listdir(folder):\n",
    "        if filename.endswith('.json'):\n",
    "            filepath = os.path.join(folder, filename)\n",
    "            with open(filepath, 'r') as f:\n",
    "                json_data = json.load(f)\n",
    "                features = extract_features(json_data['data'])  # Only use accel data\n",
    "                X.append(features)\n",
    "                y.append(1 if json_data['iscrash'] else 0)  # iscrash: 1 if crash, else 0\n",
    "    \n",
    "    return np.array(X), np.array(y)\n",
    "\n",
    "# Path to the folder containing the JSON files\n",
    "folder_path = './dataNous'\n",
    "\n",
    "# Load data\n",
    "X, y_true = load_data(folder_path)  # y_true is the ground truth for iscrash\n",
    "\n",
    "# Normalize/scale features\n",
    "scaler = StandardScaler()\n",
    "X_scaled = scaler.fit_transform(X)\n",
    "\n",
    "# Initialize the Local Outlier Factor model\n",
    "lof = LocalOutlierFactor(n_neighbors=20, contamination=0.1)\n",
    "\n",
    "# Fit the model and predict outliers\n",
    "y_pred = lof.fit_predict(X_scaled)\n",
    "\n",
    "# Convert the model's output (-1 for outliers, 1 for inliers) to match the binary ground truth format\n",
    "y_pred_binary = np.where(y_pred == -1, 1, 0)  # 1 for outliers (crashes), 0 for inliers\n",
    "\n",
    "# Display classification report comparing model predictions with true iscrash values\n",
    "print(\"Local Outlier Factor Outlier Detection - Performance:\")\n",
    "print(classification_report(y_true, y_pred_binary))\n",
    "\n",
    "# Count the number of true outliers (crashes) in the dataset\n",
    "num_true_outliers = np.sum(y_true)\n",
    "num_predicted_outliers = np.sum(y_pred_binary)\n",
    "\n",
    "print(f\"Number of true outliers (crashes) in the dataset: {num_true_outliers}\")\n",
    "print(f\"Number of predicted outliers by the model: {num_predicted_outliers}\")\n",
    "\n",
    "# Plotting the results to visualize outliers\n",
    "outliers = np.where(y_pred_binary == 1)\n",
    "inliers = np.where(y_pred_binary == 0)\n",
    "\n",
    "plt.scatter(X_scaled[inliers, 0], X_scaled[inliers, 1], label='Inliers (Normal)', c='blue', s=20)\n",
    "plt.scatter(X_scaled[outliers, 0], X_scaled[outliers, 1], label='Outliers (Predicted Crashes)', c='red', s=20)\n",
    "plt.title(\"Outlier Detection with Local Outlier Factor\")\n",
    "plt.legend()\n",
    "plt.show()\n"
   ]
  },
  {
   "cell_type": "markdown",
   "metadata": {},
   "source": [
    "# 6eme LOF avec seuil"
   ]
  },
  {
   "cell_type": "code",
   "execution_count": 12,
   "metadata": {},
   "outputs": [
    {
     "name": "stdout",
     "output_type": "stream",
     "text": [
      "Local Outlier Factor Outlier Detection with Threshold - Performance:\n",
      "              precision    recall  f1-score   support\n",
      "\n",
      "           0       0.95      0.29      0.44        69\n",
      "           1       0.69      0.99      0.81       111\n",
      "\n",
      "    accuracy                           0.72       180\n",
      "   macro avg       0.82      0.64      0.63       180\n",
      "weighted avg       0.79      0.72      0.67       180\n",
      "\n",
      "Number of true outliers (crashes) in the dataset: 111\n",
      "Number of predicted outliers by the model: 159\n"
     ]
    },
    {
     "data": {
      "image/png": "[encoded data removed]",
      "text/plain": [
       "<Figure size 1000x600 with 1 Axes>"
      ]
     },
     "metadata": {},
     "output_type": "display_data"
    }
   ],
   "source": [
    "import os\n",
    "import json\n",
    "import numpy as np\n",
    "from sklearn.neighbors import LocalOutlierFactor\n",
    "from sklearn.preprocessing import StandardScaler\n",
    "from sklearn.metrics import classification_report\n",
    "import matplotlib.pyplot as plt\n",
    "\n",
    "# Function to extract features from accelerometer data only\n",
    "def extract_features(data):\n",
    "    # Only use the 'accel' data (exclude 'gyro')\n",
    "    accel = np.array([entry['accel'] for entry in data])\n",
    "    \n",
    "    # Simple feature extraction (mean, std, min, max for accel)\n",
    "    features = []\n",
    "    features.append(np.mean(accel, axis=0))\n",
    "    features.append(np.std(accel, axis=0))\n",
    "    features.append(np.min(accel, axis=0))\n",
    "    features.append(np.max(accel, axis=0))\n",
    "    \n",
    "    return np.concatenate(features)\n",
    "\n",
    "# Load and process the dataset\n",
    "def load_data(folder):\n",
    "    X = []\n",
    "    y = []\n",
    "    \n",
    "    for filename in os.listdir(folder):\n",
    "        if filename.endswith('.json'):\n",
    "            filepath = os.path.join(folder, filename)\n",
    "            with open(filepath, 'r') as f:\n",
    "                json_data = json.load(f)\n",
    "                features = extract_features(json_data['data'])  # Only use accel data\n",
    "                X.append(features)\n",
    "                y.append(1 if json_data['iscrash'] else 0)\n",
    "    \n",
    "    return np.array(X), np.array(y)\n",
    "\n",
    "# Path to the folder containing the JSON files\n",
    "folder_path = './dataNous'\n",
    "\n",
    "# Load data\n",
    "X, y_true = load_data(folder_path)\n",
    "\n",
    "# Normalize/scale features\n",
    "scaler = StandardScaler()\n",
    "X_scaled = scaler.fit_transform(X)\n",
    "\n",
    "# Initialize the Local Outlier Factor model\n",
    "lof = LocalOutlierFactor(n_neighbors=20, novelty=False)\n",
    "\n",
    "# Fit the model and predict outliers\n",
    "y_pred_outliers = lof.fit_predict(X_scaled)\n",
    "\n",
    "# Get the negative outlier factor scores (lower score = more anomalous)\n",
    "negative_outlier_factor = lof.negative_outlier_factor_\n",
    "\n",
    "# Apply the threshold to classify as crash or not\n",
    "threshold = -1.0  # Set threshold value (modify this based on your analysis)\n",
    "y_pred = np.where(negative_outlier_factor < threshold, 1, 0)  # 1 for outliers (crashes), 0 for inliers\n",
    "\n",
    "# Display classification report comparing model predictions with true iscrash values\n",
    "print(\"Local Outlier Factor Outlier Detection with Threshold - Performance:\")\n",
    "print(classification_report(y_true, y_pred))\n",
    "\n",
    "# Count the number of true outliers (crashes) in the dataset\n",
    "num_true_outliers = np.sum(y_true)\n",
    "num_predicted_outliers = np.sum(y_pred)\n",
    "\n",
    "print(f\"Number of true outliers (crashes) in the dataset: {num_true_outliers}\")\n",
    "print(f\"Number of predicted outliers by the model: {num_predicted_outliers}\")\n",
    "\n",
    "# Optional: Plotting the results to visualize outliers\n",
    "outliers = np.where(y_pred == 1)\n",
    "inliers = np.where(y_pred == 0)\n",
    "\n",
    "plt.figure(figsize=(10, 6))\n",
    "plt.scatter(X_scaled[inliers, 0], X_scaled[inliers, 1], label='Inliers (Normal)', c='blue', s=20)\n",
    "plt.scatter(X_scaled[outliers, 0], X_scaled[outliers, 1], label='Outliers (Predicted Crashes)', c='red', s=20)\n",
    "plt.title(\"Outlier Detection with Local Outlier Factor and Threshold\")\n",
    "plt.xlabel(\"Feature 1 (Mean Acceleration)\")\n",
    "plt.ylabel(\"Feature 2 (Standard Deviation of Acceleration)\")\n",
    "plt.legend()\n",
    "plt.show()\n"
   ]
  },
  {
   "cell_type": "markdown",
   "metadata": {},
   "source": [
    "# Avoir nos données et données munich hamosnisées pour le modèle \n"
   ]
  },
  {
   "cell_type": "markdown",
   "metadata": {},
   "source": [
    "Récup les données de munich"
   ]
  },
  {
   "cell_type": "code",
   "execution_count": 31,
   "metadata": {},
   "outputs": [
    {
     "name": "stdout",
     "output_type": "stream",
     "text": [
      "                         time  X (m/s²)  Y (m/s²)  Z (m/s²)\n",
      "0  2024-09-14 18:29:05.546266 -0.627626 -6.903882  7.531507\n",
      "1  2024-09-14 18:29:05.548760  1.255251 -6.903882  6.903882\n",
      "2  2024-09-14 18:29:05.551254  2.510502 -7.531507  7.531507\n",
      "3  2024-09-14 18:29:05.553748  1.255251 -7.531507  6.903882\n",
      "4  2024-09-14 18:29:05.556242 -1.255251 -6.903882  6.276256\n"
     ]
    }
   ],
   "source": [
    "import pandas as pd\n",
    "\n",
    "# Charger le fichier CSV (modifiez 'path_to_file.csv' avec votre propre chemin de fichier)\n",
    "file_path = 'dataMunich/ACCData/device3-2024-09-14T18_29_05.csv'\n",
    "df = pd.read_csv(file_path)\n",
    "\n",
    "# Retirer la colonne \"received_at\"\n",
    "df = df.drop(columns=['received_at','cloud_event_id'])\n",
    "\n",
    "# Simplifier les noms des colonnes commençant par \"MESSAGES\"\n",
    "df.columns = [\n",
    "    col.split('.')[-1].replace('ACC_', '') if 'MESSAGES' in col else col\n",
    "    for col in df.columns\n",
    "]\n",
    "# Afficher les nouvelles colonnes et quelques lignes pour vérifier\n",
    "# print(df.columns)\n",
    "print(df.head())\n"
   ]
  },
  {
   "cell_type": "markdown",
   "metadata": {},
   "source": [
    "les transformer pour avoir comme nos données"
   ]
  },
  {
   "cell_type": "code",
   "execution_count": 32,
   "metadata": {},
   "outputs": [],
   "source": [
    "import numpy as np\n",
    "import pandas as pd\n",
    "from sklearn.preprocessing import StandardScaler\n",
    "\n",
    "# Fonction pour extraire les caractéristiques des données de test\n",
    "def extract_features_from_test(df):\n",
    "    # Supposons que les colonnes pertinentes soient les colonnes d'accélération X, Y, Z\n",
    "    accel = df[['X (m/s²)', 'Y (m/s²)', 'Z (m/s²)']].values  # Utilise les noms des colonnes après modification\n",
    "\n",
    "    # Extraire les caractéristiques (moyenne, std, min, max) pour l'accéléromètre\n",
    "    features = []\n",
    "    features.append(np.mean(accel, axis=0))\n",
    "    features.append(np.std(accel, axis=0))\n",
    "    features.append(np.min(accel, axis=0))\n",
    "    features.append(np.max(accel, axis=0))\n",
    "    \n",
    "    return np.concatenate(features)\n",
    "\n",
    "\n",
    "# Extraire les caractéristiques des données de test\n",
    "X_test_new = extract_features_from_test(df)\n",
    "\n",
    "# Normaliser/scaler les nouvelles données de test avec le scaler entraîné\n",
    "X_test_new_scaled = scaler.transform([X_test_new])\n",
    "\n",
    "# Maintenant, X_test_new_scaled peut être utilisé pour tester ton modèle\n"
   ]
  },
  {
   "cell_type": "code",
   "execution_count": 33,
   "metadata": {},
   "outputs": [
    {
     "name": "stdout",
     "output_type": "stream",
     "text": [
      "Prediction: Crash détecté\n"
     ]
    }
   ],
   "source": [
    "# Prédire la probabilité pour la classe 'iscrash' (1)\n",
    "y_prob_new = clf.predict_proba(X_test_new_scaled)[:, 1]\n",
    "\n",
    "# Prédire avec le seuil de 0.7\n",
    "threshold = 0.7\n",
    "y_pred_new = predic_with_threshold(y_prob_new, threshold)\n",
    "\n",
    "# Afficher la prédiction\n",
    "if y_pred_new[0] == 1:\n",
    "    print(\"Prediction: Crash détecté\")\n",
    "else:\n",
    "    print(\"Prediction: Pas de crash\")\n"
   ]
  },
  {
   "cell_type": "code",
   "execution_count": 34,
   "metadata": {},
   "outputs": [
    {
     "name": "stdout",
     "output_type": "stream",
     "text": [
      "Vraie étiquette: Pas de crash\n",
      "Prédiction: Pas de crash\n"
     ]
    }
   ],
   "source": [
    "import random\n",
    "\n",
    "# Sélectionner une donnée d'entraînement au hasard\n",
    "random_index = random.randint(0, len(X_train) - 1)  # Indice aléatoire dans X_train\n",
    "X_train_sample = X_train[random_index].reshape(1, -1)  # Reshape pour qu'il soit compatible avec la fonction predict_proba\n",
    "y_train_actual = y_train[random_index]  # La vraie étiquette associée à cette donnée\n",
    "\n",
    "# Prédire la probabilité pour la classe 'iscrash' (1) sur cette donnée d'entraînement\n",
    "y_prob_train_sample = clf.predict_proba(X_train_sample)[:, 1]\n",
    "\n",
    "# Prédire avec le seuil de 0.7\n",
    "threshold = 0.7\n",
    "y_pred_train_sample = predic_with_threshold(y_prob_train_sample, threshold)\n",
    "\n",
    "# Afficher la prédiction et la vraie étiquette\n",
    "print(f\"Vraie étiquette: {'Crash' if y_train_actual == 1 else 'Pas de crash'}\")\n",
    "if y_pred_train_sample[0] == 1:\n",
    "    print(\"Prédiction: Crash détecté\")\n",
    "else:\n",
    "    print(\"Prédiction: Pas de crash\")\n"
   ]
  },
  {
   "cell_type": "code",
   "execution_count": null,
   "metadata": {},
   "outputs": [],
   "source": []
  }
 ],
 "metadata": {
  "kernelspec": {
   "display_name": "Python 3",
   "language": "python",
   "name": "python3"
  },
  "language_info": {
   "codemirror_mode": {
    "name": "ipython",
    "version": 3
   },
   "file_extension": ".py",
   "mimetype": "text/x-python",
   "name": "python",
   "nbconvert_exporter": "python",
   "pygments_lexer": "ipython3",
   "version": "3.12.2"
  }
 },
 "nbformat": 4,
 "nbformat_minor": 2
}
