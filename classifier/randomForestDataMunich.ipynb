{
 "cells": [
  {
   "cell_type": "code",
   "execution_count": 1,
   "metadata": {},
   "outputs": [
    {
     "name": "stdout",
     "output_type": "stream",
     "text": [
      "                         time  X (m/s²)   Y (m/s²)  Z (m/s²)\n",
      "0  2024-08-19 07:34:34.358178  0.000000 -10.042010  0.627626\n",
      "1  2024-08-19 07:34:34.378136  0.000000 -10.042010  1.255251\n",
      "2  2024-08-19 07:34:34.398094  0.627626 -10.042010 -0.627626\n",
      "3  2024-08-19 07:34:34.418052  1.255251  -9.414384  0.627626\n",
      "4  2024-08-19 07:34:34.438011  0.627626  -9.414384  0.000000\n"
     ]
    }
   ],
   "source": [
    "import pandas as pd\n",
    "\n",
    "# Charger le fichier CSV (modifiez 'path_to_file.csv' avec votre propre chemin de fichier)\n",
    "file_path = 'dataMunich/ACCData/device1-2024-08-19T07_34_34.csv'\n",
    "df = pd.read_csv(file_path)\n",
    "\n",
    "# Retirer la colonne \"received_at\"\n",
    "df = df.drop(columns=['received_at','cloud_event_id'])\n",
    "\n",
    "# Simplifier les noms des colonnes commençant par \"MESSAGES\"\n",
    "df.columns = [\n",
    "    col.split('.')[-1].replace('ACC_', '') if 'MESSAGES' in col else col\n",
    "    for col in df.columns\n",
    "]\n",
    "# Afficher les nouvelles colonnes et quelques lignes pour vérifier\n",
    "# print(df.columns)\n",
    "print(df.head())\n"
   ]
  }
 ],
 "metadata": {
  "kernelspec": {
   "display_name": "Python 3",
   "language": "python",
   "name": "python3"
  },
  "language_info": {
   "codemirror_mode": {
    "name": "ipython",
    "version": 3
   },
   "file_extension": ".py",
   "mimetype": "text/x-python",
   "name": "python",
   "nbconvert_exporter": "python",
   "pygments_lexer": "ipython3",
   "version": "3.12.2"
  }
 },
 "nbformat": 4,
 "nbformat_minor": 2
}
